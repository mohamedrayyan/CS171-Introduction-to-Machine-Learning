{
 "cells": [
  {
   "cell_type": "markdown",
   "metadata": {},
   "source": [
    "\n",
    "# Problem Set 3\n",
    "# Due Sunday, November 22, 2020\n",
    "\n",
    "<div style=\"color: #000000;background-color: #FFEEFF\">\n",
    "In this problem set, you are to implement a three-layer (3 layers of weights, 2 hidden layers of units) neural network for binary classification.  All non-linearities are to be sigmoids.\n",
    "\n",
    "Details are given below.  *Please read the **entire** notebook carefully before proceeding.*\n",
    "\n",
    "You need to both fill in the necesary code, **and** answer the question at the bottom.</div>"
   ]
  },
  {
   "cell_type": "markdown",
   "metadata": {},
   "source": [
    "### Enter your information below:\n",
    "\n",
    "<div style=\"color: #000000;background-color: #FFCCCC\">\n",
    "    Your Name (submitter): Mohamed Rayyan<br>\n",
    "Your student ID (submitter): 862037325\n",
    "</div>"
   ]
  },
  {
   "cell_type": "markdown",
   "metadata": {},
   "source": [
    "<div style=\"color: #000000;background-color: #FFCCFF\">\n",
    "    Total Grade: 14/30<br>\n",
    "    Late Days on this assigment: 0<br>\n",
    "    Total Late Days so far: <br>\n",
    "    </div>"
   ]
  },
  {
   "cell_type": "code",
   "execution_count": 238,
   "metadata": {},
   "outputs": [],
   "source": [
    "# Below are the only imports that are necessary (or allowed)\n",
    "import numpy as np\n",
    "import h5py \n",
    "import matplotlib.pyplot as plt\n",
    "import time\n",
    "from IPython import display"
   ]
  },
  {
   "cell_type": "markdown",
   "metadata": {},
   "source": [
    "## Data\n",
    "\n",
    "<div style=\"color: #000000;background-color: #FFEEFF\">\n",
    "We will be using a USPS digit dataset (provided in the file uspsall73.mat).\n",
    "It has 16-by-16 grayscale images of each of the 10 different hand-written digits\n",
    "However, we will load only two of the digits to use as the two classes in\n",
    "binary classification\n",
    "</div>"
   ]
  },
  {
   "cell_type": "code",
   "execution_count": 239,
   "metadata": {},
   "outputs": [],
   "source": [
    "# function to load two of the 10 classes (c1 is for Y=+1 and c2 is for Y=0)\n",
    "# Note that for neural networks, we will be using Y={+1,0} instead of Y={+1,-1}\n",
    "def loaddigitdata(c1,c2,m):\n",
    "    f = h5py.File('uspsall73.mat','r') \n",
    "    data = f.get('data') \n",
    "    data = np.array(data).astype(float)\n",
    "    X = np.concatenate((data[c1,:,:],data[c2,:,:]))\n",
    "    Y = np.concatenate((np.zeros((data.shape[1])),np.ones((data.shape[1]))))\n",
    "    \n",
    "    rndstate = np.random.get_state() # going to set the \"random\" shuffle random seed\n",
    "    np.random.seed(132857) # setting seed so that dataset is consistent\n",
    "    p = np.random.permutation(X.shape[0])\n",
    "    X = X[p] # this and next line make copies, but that's okay given how small our dataset is\n",
    "    Y = Y[p]\n",
    "    np.random.set_state(rndstate) # reset seed\n",
    "    \n",
    "    trainX = X[0:m,:] # use the first m (after shuffling) for training\n",
    "    trainY = Y[0:m,np.newaxis]\n",
    "    validX = X[m:,:] # use the rest for validation\n",
    "    validY = Y[m:,np.newaxis]\n",
    "    return (trainX,trainY,validX,validY)\n",
    "\n",
    "# In case you care (not necessary for the assignment)\n",
    "def drawexample(x,ax=None): # takes an x *vector* and draws the image it encodes\n",
    "    if ax is None:\n",
    "        plt.imshow(np.reshape(x,(16,16)).T,cmap='gray')\n",
    "    else:\n",
    "        ax.imshow(np.reshape(x,(16,16)).T,cmap='gray')"
   ]
  },
  {
   "cell_type": "code",
   "execution_count": 240,
   "metadata": {},
   "outputs": [],
   "source": [
    "# load the data, to differentiate between 7s and 9s\n",
    "# we will use on 1100 examples for training (50% of the data) and the other half for validation\n",
    "(trainX,trainY,validX,validY) = loaddigitdata(6,8,1100)\n",
    "means = trainX.mean(axis=0)\n",
    "stddevs = trainX.std(axis=0)\n",
    "stddevs[stddevs<1e-6] = 1.0\n",
    "trainX = (trainX-means)/stddevs # z-score normalization\n",
    "validX = (validX-means)/stddevs # apply same transformation to validation set"
   ]
  },
  {
   "cell_type": "raw",
   "metadata": {},
   "source": [
    "# Convert this cell to a code cell if you wish to see each of the examples, plotted\n",
    "# (completely not necessary for the problem set)\n",
    "f = plt.figure()\n",
    "f.set_size_inches(8,8)\n",
    "\n",
    "ax = f.add_subplot(111)\n",
    "plt.ion()\n",
    "f.canvas.draw()\n",
    "for exi in range(trainX.shape[0]):\n",
    "    display.clear_output(wait=True)\n",
    "    drawexample(trainX[exi,:])\n",
    "    digitid = (9 if trainY[exi]>0 else 7)\n",
    "    ax.set_title('y = '+str(int(trainY[exi]))+\" [\"+str(digitid)+\"]\")\n",
    "    display.display(f)\n",
    "    #time.sleep(0.1)"
   ]
  },
  {
   "cell_type": "markdown",
   "metadata": {},
   "source": [
    "## WRITE `nneval` and `trainneuralnet` [25 points]\n",
    "\n",
    "<div style=\"color: #000000;background-color: #FFFFEE\">\n",
    "This is the main portion of the assignment\n",
    "\n",
    "Note that the $Y$ values are +1 and 0 (not +1 and -1).  This is as in class for neural networks and works better with a sigmoid output.\n",
    "\n",
    "You need to write the two functions below (plus any more you would like to add to help): `nneval` and `trainneuralnet`.  The first takes an array/matrix of X vectors and the weights from a neural network and returns a vector of predicted Y values (should be numbers between 0 and 1 -- the probability of class +1, for each of the examples).  The second takes a data set (Xs and Ys), the number of hidden units, and the lambda value (for regularization), and returns the weights.  W1 are the weights from the input to the hidden and W2 are the weights from the hidden to the output.\n",
    "\n",
    "A few notes:\n",
    "- **Starting Weights**: The code supplied randomly selects the weights near zero.  https://towardsdatascience.com/weight-initialization-in-neural-networks-a-journey-from-the-basics-to-kaiming-954fb9b47c79 has a reasonable explanation of why we are doing it this way.  But for the purposes of the assignment, you can just accept this is a good way to initialize neural network weights.\n",
    "- **Offset Terms**: Each layer should have an \"offset\" or \"intercept\" unit (to supply a 1 to the next layer), except the output layer.\n",
    "- **Batch Updates**: For a problem this small, use batch updates.  That is, the step is based on the sum of the gradients for each data point in the training set.\n",
    "- **Step Size**: http://ruder.io/optimizing-gradient-descent/index.html#gradientdescentoptimizationalgorithms describes a number of methods to adaptively control $\\eta$ for fast convergence.  You don't need to understand any of them; however, without them, convergence to good solutions on this problem can be quite slow.  Therefore, *use RMSprop*: the code below has a simple version of RMSprop that is sufficient for this assignment.  You need to supply the code that calculates `sumofgrad2` which should be the sum of the square of each element of the gradient (the squared length of the gradient).  (for debugging, feel free to use a constant $\\eta$). \n",
    "- **Stopping Criterion**: To determine when to stop, check the loss function every 10 iterations.  If it has not improved by at least $10^{-6}$ over those 10 iterations, stop.\n",
    "- **Regularization**: You should penalize (from the regularization) all of the weights, even those coming out of offset units.  While it makes sense sometimes not to penalize the ones for the constant $1$ units, you'll find this easier if you just penalize them all.\n",
    "\n",
    "Tips that might help:\n",
    "- Display the loss function's value every 10 iterations (or so).  It should be getting smaller.  If not, your gradient is not pointing in the right direction.\n",
    "- The smaller $\\lambda$ is and the more units, the more difficult (longer) the optimization will be.\n",
    "- Write a function to do forward propagation and one to do backward propagation.  Write a function to evaluate the loss function.  In general, break things up to keep things straight.\n",
    "- Processing the entire batch at once is more efficient in numpy.  Use numpy broadcasting to avoid loops where possible.\n",
    "</div>"
   ]
  },
  {
   "cell_type": "markdown",
   "metadata": {},
   "source": [
    "<div style=\"color: #000000;background-color: #FFCCFF\">\n",
    "    Grade: 12/25<br>\n",
    "    Comments:\n",
    "    </div>"
   ]
  },
  {
   "cell_type": "code",
   "execution_count": 599,
   "metadata": {},
   "outputs": [],
   "source": [
    "### FEEL FREE TO ADD HELPER FUNCTIONS\n",
    "def sigmoid(a):\n",
    "    return np.array([(1 /(1+np.exp(-a)))])\n",
    "\n",
    "# Wts is whatever object you return from trainneuralnet\n",
    "def nneval(X,Wts):\n",
    "    # YOUR CODE HERE\n",
    "    nn =dict()\n",
    "    Y =[]\n",
    "    for i in range(len(X)):\n",
    "        nn[i] =dict()\n",
    "        inputt =X[i]\n",
    "        inputt =np.insert(inputt,0,1)\n",
    "        for k in range(len(Wts)):\n",
    "            nn[i][k] =dict()\n",
    "            nn[i][k]['z'] =np.matmul(inputt,Wts[k].T)\n",
    "            nn[i][k]['a'] =sigmoid(nn[i][k]['z'])\n",
    "            nn[i][k]['a'] =np.insert(nn[i][k]['a'], 0, 1)\n",
    "            inputt =nn[i][k]['a']\n",
    "        \n",
    "        Y.append(nn[i][2]['a'][1])\n",
    "        \n",
    "    # Should return a vector of values (btwn 0 and 1) for each of the rows of X\n",
    "    # print(Y)\n",
    "    return 1-np.array(Y).T\n",
    "    \n",
    "    \n",
    "def losss(X, Y):\n",
    "    return((-(Y * np.log(X) + (1 - Y) * np.log(1-X))))\n",
    "\n",
    "def summ(Wts):\n",
    "    return(np.sum(Wts[0] ** 2) + np.sum(Wts[1] ** 2) + np.sum(Wts[2] ** 2))\n",
    "    \n",
    "def evaluateLoss(losses, lossVal):\n",
    "    losses.append(lossVal)\n",
    "    if(len(losses) > 10):\n",
    "        losses.pop(0)\n",
    "    \n",
    "    threshold = 10 **(-6)\n",
    "    \n",
    "    return(not (abs(losses[0] - lossVal) < threshold) and (losses[0] > lossVal))\n",
    "    \n",
    "# Your functions need only work for neural networks of exactly 3 layers of weights\n",
    "# This training function has a single scalar parameter, nhid, to indicate the number of\n",
    "# hidden units.  This is the number in the first hidden layer.  The second hidden layer will have 1/2 this number\n",
    "# You can use \"printinfo\" to control whether to print out debugging info (or you can just ignore it)\n",
    "def trainneuralnet(X,Y,nhid,lam,printinfo=False):\n",
    "    # The number of examples (m) and number of input dimensions (n) of the input data\n",
    "    (m,n) = X.shape\n",
    "    \n",
    "    # This is the code that initializes the weigth matrics:\n",
    "    # W1 is nhid by n+1 (to map from the input, plus a constant term, to the first hidden layer)\n",
    "    # W2 is nhid/2 by nhid+1 (to map from the first hidden layer of units to the second)\n",
    "    # W3 is nhid/2+1 by 1 (to map from the second layers of hidden units to the output)\n",
    "    W1 = (np.random.rand(nhid,n+1)*2-1)*np.sqrt(6.0/(n+nhid+1)) # weights to each hidden unit from the inputs (plus the added offset unit)\n",
    "    W2 = (np.random.rand(nhid//2,nhid+1)*2-1)*np.sqrt(6.0/(nhid+nhid/2+1))\n",
    "    W3 = (np.random.rand(1,nhid//2+1)*2-1)*np.sqrt(6.0/(nhid+2)) # weights to the single output unit from the hidden units (plus the offset unit)\n",
    "    W2[:,0] = -nhid/2.0\n",
    "    W3[:,0] = -nhid/4.0\n",
    "    \n",
    "    Wts = [W1,W2,W3] # I put them together in a list, but you can use any structure to keep them together and return them in the end\n",
    "    \n",
    "    Eg2=1\n",
    "    # Your loop here:\n",
    "    nn =dict()\n",
    "    loss =0\n",
    "    lwts =0\n",
    "    lssa =[100]\n",
    "    count =0\n",
    "    sumofgrad2 =0\n",
    "    while(evaluateLoss(lssa, lwts) or (count < 12)):\n",
    "        lwts =0\n",
    "        for i in range(m):\n",
    "            nn[i] =dict()\n",
    "            inputt =X[i]\n",
    "            inputt =np.insert(inputt,0,1)\n",
    "            for k in range(len(Wts)):\n",
    "                nn[i][k] =dict()\n",
    "                nn[i][k]['z'] =np.matmul(inputt,Wts[k].T)\n",
    "                nn[i][k]['a'] =sigmoid(nn[i][k]['z'])\n",
    "                nn[i][k]['a'] =np.insert(nn[i][k]['a'], 0, 1)\n",
    "                inputt =nn[i][k]['a']\n",
    "\n",
    "            nn[i][2]['s'] =(nn[i][2]['a'] -Y[i])\n",
    "            nn[i][2]['s'] =np.delete(nn[i][2]['s'],0)\n",
    "\n",
    "            d =nn[i][2]['s'] *Wts[2]\n",
    "            s =d*nn[i][1]['a']\n",
    "            s =s*(1-nn[i][1]['a'])\n",
    "            nn[i][1]['s'] =np.delete(s,0,1)\n",
    "\n",
    "            d =np.matmul(nn[i][1]['s'],np.delete(Wts[1],0,1))\n",
    "            s =d *nn[i][0]['a'][1:]\n",
    "            s =s *(1-nn[i][0]['a'][1:])\n",
    "            nn[i][0]['s'] =s\n",
    "\n",
    "            g2 =np.array([nn[i][2]['s'] *nn[i][1]['a']])\n",
    "            sumofgrad2 =np.sum(g2**2)\n",
    "            g1 =np.array(nn[i][1]['s'].T *nn[i][0]['a'])\n",
    "            sumofgrad2 =sumofgrad2 +np.sum(g1**2)\n",
    "            g0 =np.array(nn[i][0]['s'].T *np.insert(X[i],0,1))\n",
    "            sumofgrad2 =sumofgrad2 +np.sum(g0**2)\n",
    "\n",
    "            # in the loop, after calculating the gradient, but before making a step\n",
    "            # calculate the sum of the squares of all of the gradient values\n",
    "            # and store it in sumofgrad2\n",
    "            # then execute this code to get the step size, eta:\n",
    "            Eg2 = 0.9*Eg2 + 0.1*sumofgrad2\n",
    "            eta = 0.01/(np.sqrt((1e-10+Eg2)))\n",
    "\n",
    "            Wts[0] =Wts[0] -(eta*g0)\n",
    "            Wts[1] =Wts[1] -(eta*g1)\n",
    "            Wts[2] =Wts[2] -(eta*g2)\n",
    "\n",
    "            lwts = lwts +  losss(nn[i][2]['a'][1],Y[i])\n",
    "        \n",
    "        lwts =(((1/m) * lwts + (lam/m) * summ(Wts))[0])\n",
    "        \n",
    "        count =count +1\n",
    "\n",
    "#         print(lssa)\n",
    "        \n",
    "#             print(count)\n",
    "#             print(lssa, \" | \", abs(lssa[0] - lssa[-1]), \" | \", 10 ** (-6))\n",
    "\n",
    "    \n",
    "    # when done, return your weights\n",
    "    return Wts\n",
    "\n"
   ]
  },
  {
   "cell_type": "code",
   "execution_count": 600,
   "metadata": {},
   "outputs": [
    {
     "name": "stdout",
     "output_type": "stream",
     "text": [
      "CPU times: user 5.44 s, sys: 986 µs, total: 5.44 s\n",
      "Wall time: 5.44 s\n"
     ]
    }
   ],
   "source": [
    "%%time\n",
    "# Use this cell (or others you add) to check your network\n",
    "# I would debug on simple examples you create yourself (trying to understand what happens with\n",
    "#  the full 256-dimensional data is hard)\n",
    "\n",
    "#an example of training on the USPS data with 32/16 hidden units and lambda=0.1, takes about 9800 iterations and about 50 seconds for the solutions\n",
    "Wts = trainneuralnet(trainX,trainY,32,0.1,True)"
   ]
  },
  {
   "cell_type": "markdown",
   "metadata": {},
   "source": [
    "## Performance plot\n",
    "<div class=\"alert alert-info\">\n",
    "The code below will plot your algorithm's error rate on this data set for various regularization strengths and numbers of hidden units.\n",
    "\n",
    "Make sure your code works for this plot.\n",
    "\n",
    "My code runs in about 12 minutes (to produce the full plot below)\n",
    "</div>"
   ]
  },
  {
   "cell_type": "code",
   "execution_count": 601,
   "metadata": {},
   "outputs": [
    {
     "name": "stdout",
     "output_type": "stream",
     "text": [
      "CPU times: user 8min 51s, sys: 476 ms, total: 8min 51s\n",
      "Wall time: 8min 51s\n"
     ]
    },
    {
     "data": {
      "image/png": "[encoded data removed]",
      "text/plain": [
       "<Figure size 576x576 with 1 Axes>"
      ]
     },
     "metadata": {
      "needs_background": "light"
     },
     "output_type": "display_data"
    }
   ],
   "source": [
    "%%time\n",
    "# This code is given.  Do not modify.\n",
    "def setupfig():\n",
    "    f = plt.figure()\n",
    "    f.set_size_inches(8,8)\n",
    "    ax = f.add_subplot(111)\n",
    "    plt.ion()\n",
    "    f.canvas.draw()\n",
    "    return (f,ax)\n",
    "\n",
    "def plotit(lams,nhiddens,erates,f,ax):\n",
    "    ax.clear()\n",
    "    for i in range(nhiddens.shape[0]):\n",
    "        ax.plot(lams,erates[:,i],'*-')\n",
    "    ax.set_yscale('log',subs=[1,2,3,4,5,6,7,8,9])\n",
    "    ax.set_yticks([0.1,0.01])\n",
    "    ax.set_xscale('log')\n",
    "    f.canvas.draw()\n",
    "    ax.set_xlabel('lambda')\n",
    "    ax.set_ylabel('validation error rate')\n",
    "    ax.legend([(('# hidden units = '+str(x)) if x>0 else 'logistic regression') for x in nhiddens])\n",
    "    display.display(f)\n",
    "    display.clear_output(wait=True)\n",
    "    \n",
    "def errorrate(Y,predy):\n",
    "    predy[predy<0.5] = 0.0\n",
    "    predy[predy>=0.5] = 1.0\n",
    "    return (predy!=Y).mean()\n",
    "    \n",
    "def multirestart(trainX,trainY,nhid,lam,ntries):\n",
    "    besterrsc = 1.0\n",
    "    for i in range(ntries):\n",
    "        Wts = trainneuralnet(trainX,trainY,nhid,lam)\n",
    "        errsc = errorrate(trainY,nneval(trainX,Wts))\n",
    "        if errsc<besterrsc:\n",
    "            returnWts = Wts\n",
    "            besterrsc = errsc\n",
    "    return returnWts\n",
    "    \n",
    "nhiddens = np.array([0,4,8,16])\n",
    "nhiddens = np.array([2,8,18,32])\n",
    "lams = np.logspace(-2.5,1.5,8)\n",
    "erates = np.empty([lams.shape[0],nhiddens.shape[0]])\n",
    "erates[:,:] = np.nan\n",
    "\n",
    "(f,ax) = setupfig()\n",
    "\n",
    "    \n",
    "for ni, nhid in enumerate(nhiddens):\n",
    "    for li, lam in reversed(list(enumerate(lams))):\n",
    "        if nhid==0:\n",
    "            w = learnlogreg(trainX,trainY,lam)\n",
    "            predy = predictlogreg(validX,w)[:,np.newaxis]\n",
    "        else:\n",
    "            Wts = multirestart(trainX,trainY,nhid,lam,1) #trainneuralnet(trainX,trainY,nhid,lam)\n",
    "            predy = nneval(validX,Wts)\n",
    "        erates[li,ni] = errorrate(validY,predy)\n",
    "        \n",
    "        plotit(lams,nhiddens,erates,f,ax)"
   ]
  },
  {
   "cell_type": "markdown",
   "metadata": {},
   "source": [
    "## INTERPRET the Plot [5 points]\n",
    "<div style=\"color: #000000;background-color: #FFFFEE\">\n",
    "How do you interpret the plot above?  How and why does the plot differ by number of hidden units?  By $\\lambda$ value?  What parts of this plot agree with the material taught?  What parts do not?\n",
    "</div>"
   ]
  },
  {
   "cell_type": "markdown",
   "metadata": {},
   "source": [
    "<div style=\"color: #000000;background-color: #FFCCFF\">\n",
    "    Grade: 2/5<br>\n",
    "    Comments: Plot is wrong, explanation has errors. smaller lambda does not neccesarily equate to more accuracy.\n",
    "    </div>"
   ]
  },
  {
   "cell_type": "markdown",
   "metadata": {},
   "source": [
    "### Your Answer Here\n",
    "\n",
    "The plot above measures the performance of a neural network in terms of hideen units and the value of lambda.\n",
    "\n",
    "The more hidden units there are the more accurate the network is. This is due to more computation is occuring to better approximate the function\n",
    "\n",
    "The smaller lambda is the more accurate the network is. This is due to when lambda is smaller it would take a smaller step into the wrong direction (if it is going in the wrong direction)\n",
    "\n",
    "The part of this plot that agree with material taught in class is the smaller the lambda the better and the more hidden units there the better the network is.\n",
    "\n"
   ]
  }
 ],
 "metadata": {
  "kernelspec": {
   "display_name": "Python 3",
   "language": "python",
   "name": "python3"
  },
  "language_info": {
   "codemirror_mode": {
    "name": "ipython",
    "version": 3
   },
   "file_extension": ".py",
   "mimetype": "text/x-python",
   "name": "python",
   "nbconvert_exporter": "python",
   "pygments_lexer": "ipython3",
   "version": "3.6.8"
  }
 },
 "nbformat": 4,
 "nbformat_minor": 4
}
