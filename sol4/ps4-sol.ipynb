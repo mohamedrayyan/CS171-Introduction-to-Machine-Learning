{
 "cells": [
  {
   "cell_type": "markdown",
   "metadata": {},
   "source": [
    "# CS 171 / EE 142 Problem Set 4\n",
    "# Due Sunday, December 6, 2020 @ 11:59pm "
   ]
  },
  {
   "cell_type": "markdown",
   "metadata": {},
   "source": [
    "## Read *all* cells carefully and answer all parts (both text and code)"
   ]
  },
  {
   "cell_type": "markdown",
   "metadata": {},
   "source": [
    "### Enter your information below:\n",
    "\n",
    "<div style=\"color: #000000;background-color: #FFCCCC\">\n",
    "    Your Name (submitter): <br>\n",
    "Your student ID (submitter):\n",
    "</div>"
   ]
  },
  {
   "cell_type": "markdown",
   "metadata": {},
   "source": [
    "<div style=\"color: #000000;background-color: #FFCCFF\">\n",
    "    Total Grade: /30<br>\n",
    "    Late Days on this assigment: <br>\n",
    "    Total Late Days so far: <br>\n",
    "    </div>"
   ]
  },
  {
   "cell_type": "markdown",
   "metadata": {},
   "source": [
    "<div style=\"color: #000000;background-color: #FFEEFF\">\n",
    "    <font size=+2>Part I: Association Rules</font>\n",
    "</div>"
   ]
  },
  {
   "cell_type": "markdown",
   "metadata": {},
   "source": [
    "<div style=\"color: #000000;background-color: #FFFFEE\">\n",
    "    <font size=+2>Question 1:</font> <font size=+1>(4 points)</font>\n",
    "\n",
    "If there are $n$ items (or features), there are $3^n-2^{n+1}+1$ different possible association rules.  Prove this.\n",
    "\n",
    "You need a _clear_ explanation.  Note, associate rules must have a non-empty set on the left-hand and right-hand sides.\n",
    "</div>"
   ]
  },
  {
   "cell_type": "markdown",
   "metadata": {},
   "source": [
    "For a given rule, each item is either (1) on the left-hand side, (2) on the right-hand side, or (3) not in the rule.  This would give $3^n$ different rules.  However, $2^n$ of these rules have an empty left-hand side ($2^n$ is the number of rules whether each item is either on the right-hand side or not in the rule).  Similiarly, $2^n$ of these rules have an empty right-hand side.  However, $1$ rule has both (and thus would be double counted if we just added the number of right-hand-empty and left-hand-empty rules).  So the total is $3^n - 2^n - 2^n + 1 = 3^n - 2^{n+1} +1$."
   ]
  },
  {
   "cell_type": "markdown",
   "metadata": {},
   "source": [
    "<div style=\"color: #000000;background-color: #FFCCFF\">\n",
    "    Q1:<br>\n",
    "    Grade: /4<br>\n",
    "    </div>"
   ]
  },
  {
   "cell_type": "markdown",
   "metadata": {},
   "source": [
    "<div style=\"color: #000000;background-color: #FFFFEE\">\n",
    "    <font size=+2>Question 2:</font> <font size=+1>(12 points)</font>\n",
    "    \n",
    "In this question, you will write code to do association rule learning, as described in class.\n",
    "\n",
    "The items will be represented by numbers (for ease and speed) with a separate\n",
    "list of the names for each item.  `loaddata` (below) loads in a dataset and returns these three things: a list of the names of each item, a list of the examples, and the total number of items.  Each example is a set of numbers representing.  For example, for the toy problem in lecture, loaddata returns\n",
    "\n",
    "`['Jurassic Park', 'Star Wars', 'Forrest Gump', 'Home Alone', 'Toy Story']`\n",
    "\n",
    "`[[1, 2, 4], [1, 4], [1, 3, 4], [0, 1], [0, 3], [1, 3, 4], [0, 2, 3], [3], [1, 3, 4], [1]]`\n",
    "\n",
    "`5`\n",
    "\n",
    "You should use `set`s and `frozenset`s (core python data structures) in your code.  You can read more about them at https://docs.python.org/3/library/stdtypes.html#set\n",
    "\n",
    "Write the functions `learnrules` and `writerules`, plus any additional helper functions you need.  Use the apriori algorithm to generate \"large item lists\" and the algorithm from class to find rules that meet the minimum support and confidence given.\n",
    "</div>"
   ]
  },
  {
   "cell_type": "code",
   "execution_count": 1,
   "metadata": {},
   "outputs": [],
   "source": [
    "from itertools import combinations, chain #do not import anything else \n",
    "# (you may or may not use combinations -- up to you)\n",
    "\n",
    "# prints out a set, nicely\n",
    "# names is an optional list of the names for each of the (integer) items\n",
    "def settostr(s,names=None):\n",
    "    if names is None:\n",
    "        elems = [str(e) for e in s]\n",
    "    else:\n",
    "        elems = [names[e] for e in s]\n",
    "    return \"{\" + (\", \".join(elems)) + \"}\""
   ]
  },
  {
   "cell_type": "code",
   "execution_count": 2,
   "metadata": {},
   "outputs": [],
   "source": [
    "# loads in data from filename, assuming the file format used for this assignment\n",
    "def loaddata(filename):\n",
    "    with open(filename) as f:\n",
    "        nitems = int(f.readline())\n",
    "        names = [f.readline().strip() for i in range(nitems)]\n",
    "        nrows = int(f.readline())\n",
    "        data = [[int(s) for s in f.readline().split()] for i in range(nrows)]\n",
    "        f.close()\n",
    "        return (names,data,nitems)        "
   ]
  },
  {
   "cell_type": "code",
   "execution_count": 3,
   "metadata": {},
   "outputs": [],
   "source": [
    "def countindata(iset,data):  \n",
    "    return sum(1 for d in data if iset.issubset(d))\n",
    "\n",
    "def powerset(s, incempty = True, incall = True):\n",
    "    return chain.from_iterable(combinations(s,r) for r in range(0 if incempty else 1, len(s)+1 if incall else len(s)))\n",
    "\n",
    "def support(rule,data):\n",
    "    return countindata(rule[0].union(rule[1]),data)/float(len(data))\n",
    "\n",
    "def confidence(rule,data):\n",
    "    return countindata(rule[0].union(rule[1]),data)/float(countindata(rule[0],data))\n",
    "\n",
    "def apriorigen(Lprev,data,i):\n",
    "    C = set()\n",
    "    for (I,J) in combinations(Lprev,r=2):\n",
    "        if len(I.intersection(J)) == i-2:\n",
    "            C.add(I.union(J))\n",
    "    return C\n",
    "    \n",
    "def apriori(nitems,data,minsupport):\n",
    "    mincount = len(data)*minsupport\n",
    "    currL = set([frozenset([i]) for i in range(nitems) if countindata(frozenset([i]),data)>=mincount])\n",
    "    L = currL.copy() ## ??? shallow copy... is that okay?\n",
    "    i = 1\n",
    "    while len(currL)>0:\n",
    "        \n",
    "        i = i+1\n",
    "        #print (\"at level %d from %d at prev\"%(i,len(currL)))\n",
    "        currC = apriorigen(currL,data,i)\n",
    "        currL = set()\n",
    "        for c in currC:\n",
    "            if countindata(c,data) >= mincount:\n",
    "                currL.add(c)\n",
    "        L = L.union(currL)\n",
    "    return L\n",
    "\n",
    "def learnrules(numitems,data,minsupport,minconfidence):\n",
    "    ### ADD YOUR CODE HERE (of course, feel free to add other functions!)\n",
    "    ### Should return a list of rules.  \n",
    "    ### Each rule should be a pair of two sets (lhs and rhs)\n",
    "    \n",
    "    #print (\"starting to learn\")\n",
    "    R = set()\n",
    "    L = apriori(numitems,data,minsupport)\n",
    "    for Z in L:\n",
    "        numz = countindata(Z,data)\n",
    "        for Xtup in powerset(Z,False,False):\n",
    "            X = frozenset(Xtup)\n",
    "            if numz/countindata(X,data) >= minconfidence:\n",
    "                R.add((X,Z-X))\n",
    "    return R\n",
    "                \n",
    "            "
   ]
  },
  {
   "cell_type": "code",
   "execution_count": 4,
   "metadata": {},
   "outputs": [],
   "source": [
    "def writerule(rule,itemnames):\n",
    "    return settostr(rule[0],itemnames) + \" => \" + settostr(rule[1],itemnames)\n",
    "\n",
    "def writerules(rules,data,itemnames):\n",
    "    ### ADD YOUR CODE HERE\n",
    "    ## should print out each rule, *sorted by confidence*, (high to low) one per line\n",
    "    ## each line should list the support, then the confidence, then the rule\n",
    "    ## to line up the columns nicely, use\n",
    "    ##       \"{:7.4f}\".format(x)\n",
    "    ## to print the floating point number in the variable x\n",
    "    ## use settostr (above) to write out the itemsets\n",
    "    \n",
    "    rs = [(confidence(r,data),r) for r in rules]\n",
    "    rs.sort(key=lambda r : -r[0])\n",
    "    for r in rs:\n",
    "        print (\"{:7.4f}\".format(support(r[1],data)) + \" \" + \"{:7.4f}\".format(r[0]) + \"    \" + writerule(r[1],itemnames))\n",
    "    "
   ]
  },
  {
   "cell_type": "code",
   "execution_count": 5,
   "metadata": {},
   "outputs": [],
   "source": [
    "# prints the rule set\n",
    "def printruleset(datasetfilename,minsupport,minconfidence):\n",
    "    (itemnames,data,numitems) = loaddata(datasetfilename)\n",
    "    rules = learnrules(numitems,data,minsupport,minconfidence)\n",
    "    writerules(rules,data,itemnames)"
   ]
  },
  {
   "cell_type": "code",
   "execution_count": 6,
   "metadata": {},
   "outputs": [
    {
     "name": "stdout",
     "output_type": "stream",
     "text": [
      " 0.5000  1.0000    {Toy Story} => {Star Wars}\n",
      " 0.3000  1.0000    {Star Wars, Home Alone} => {Toy Story}\n",
      " 0.3000  1.0000    {Home Alone, Toy Story} => {Star Wars}\n",
      " 0.5000  0.7143    {Star Wars} => {Toy Story}\n",
      " 0.3000  0.6000    {Star Wars, Toy Story} => {Home Alone}\n",
      " 0.3000  0.6000    {Toy Story} => {Home Alone}\n",
      " 0.3000  0.6000    {Toy Story} => {Star Wars, Home Alone}\n",
      " 0.3000  0.5000    {Home Alone} => {Toy Story}\n",
      " 0.3000  0.5000    {Home Alone} => {Star Wars, Toy Story}\n",
      " 0.3000  0.5000    {Home Alone} => {Star Wars}\n"
     ]
    },
    {
     "data": {
      "text/plain": [
       "' output should look like\\n 0.5000  1.0000    {Toy Story} => {Star Wars}\\n 0.3000  1.0000    {Star Wars, Home Alone} => {Toy Story}\\n 0.3000  1.0000    {Home Alone, Toy Story} => {Star Wars}\\n 0.5000  0.7143    {Star Wars} => {Toy Story}\\n 0.3000  0.6000    {Star Wars, Toy Story} => {Home Alone}\\n 0.3000  0.6000    {Toy Story} => {Home Alone}\\n 0.3000  0.6000    {Toy Story} => {Star Wars, Home Alone}\\n 0.3000  0.5000    {Home Alone} => {Toy Story}\\n 0.3000  0.5000    {Home Alone} => {Star Wars, Toy Story}\\n 0.3000  0.5000    {Home Alone} => {Star Wars}\\n'"
      ]
     },
     "execution_count": 6,
     "metadata": {},
     "output_type": "execute_result"
    }
   ],
   "source": [
    "## toy dataset example\n",
    "printruleset('toymovies.txt',0.3,0.5)\n",
    "''' output should look like\n",
    " 0.5000  1.0000    {Toy Story} => {Star Wars}\n",
    " 0.3000  1.0000    {Star Wars, Home Alone} => {Toy Story}\n",
    " 0.3000  1.0000    {Home Alone, Toy Story} => {Star Wars}\n",
    " 0.5000  0.7143    {Star Wars} => {Toy Story}\n",
    " 0.3000  0.6000    {Star Wars, Toy Story} => {Home Alone}\n",
    " 0.3000  0.6000    {Toy Story} => {Home Alone}\n",
    " 0.3000  0.6000    {Toy Story} => {Star Wars, Home Alone}\n",
    " 0.3000  0.5000    {Home Alone} => {Toy Story}\n",
    " 0.3000  0.5000    {Home Alone} => {Star Wars, Toy Story}\n",
    " 0.3000  0.5000    {Home Alone} => {Star Wars}\n",
    "'''"
   ]
  },
  {
   "cell_type": "code",
   "execution_count": 8,
   "metadata": {},
   "outputs": [
    {
     "name": "stdout",
     "output_type": "stream",
     "text": [
      " 0.0104  0.5862    {citrus fruit, root vegetables} => {other vegetables}\n",
      " 0.0123  0.5845    {root vegetables, tropical fruit} => {other vegetables}\n",
      " 0.0101  0.5824    {curd, yogurt} => {whole milk}\n",
      " 0.0115  0.5736    {other vegetables, butter} => {whole milk}\n",
      " 0.0120  0.5700    {root vegetables, tropical fruit} => {whole milk}\n",
      " 0.0145  0.5630    {root vegetables, yogurt} => {whole milk}\n",
      " 0.0123  0.5525    {domestic eggs, other vegetables} => {whole milk}\n",
      " 0.0109  0.5245    {yogurt, whipped/sour cream} => {whole milk}\n",
      " 0.0127  0.5230    {rolls/buns, root vegetables} => {whole milk}\n",
      " 0.0135  0.5175    {pip fruit, other vegetables} => {whole milk}\n",
      " 0.0151  0.5174    {tropical fruit, yogurt} => {whole milk}\n",
      " 0.0223  0.5129    {other vegetables, yogurt} => {whole milk}\n",
      " 0.0146  0.5070    {other vegetables, whipped/sour cream} => {whole milk}\n",
      " 0.0122  0.5021    {rolls/buns, root vegetables} => {other vegetables}\n",
      " 0.0129  0.5000    {root vegetables, yogurt} => {other vegetables}\n",
      "CPU times: user 26.6 s, sys: 7.91 ms, total: 26.6 s\n",
      "Wall time: 26.6 s\n"
     ]
    }
   ],
   "source": [
    "%%time\n",
    "# the full groceries answer (should take under a minute to run)\n",
    "printruleset('groceries.txt',0.01,0.5)"
   ]
  },
  {
   "cell_type": "code",
   "execution_count": 9,
   "metadata": {},
   "outputs": [
    {
     "name": "stdout",
     "output_type": "stream",
     "text": [
      " 0.0013  0.9231    {Other, Tartine} => {Coffee}\n",
      " 0.0010  0.9091    {Medialuna, Hot chocolate, Other} => {Coffee}\n",
      " 0.0015  0.8750    {Salad, Extra Salami or Feta} => {Coffee}\n",
      " 0.0014  0.8667    {Toast, Pastry} => {Coffee}\n",
      " 0.0013  0.8571    {Hearty & Seasonal, Sandwich} => {Coffee}\n",
      " 0.0016  0.8333    {Other, Scone} => {Coffee}\n",
      " 0.0010  0.8333    {Vegan mincepie, Cake} => {Coffee}\n",
      " 0.0016  0.8333    {Salad, Sandwich} => {Coffee}\n",
      " 0.0033  0.8158    {Extra Salami or Feta} => {Coffee}\n",
      " 0.0054  0.8095    {Keeping It Local} => {Coffee}\n",
      " 0.0016  0.7895    {Cookies, Scone} => {Coffee}\n",
      " 0.0018  0.7727    {Juice, Pastry} => {Coffee}\n",
      " 0.0010  0.7692    {Salad, Cake} => {Coffee}\n",
      " 0.0014  0.7647    {Other, Extra Salami or Feta} => {Coffee}\n",
      " 0.0028  0.7500    {Other, Toast} => {Coffee}\n",
      " 0.0021  0.7407    {Other, Cookies} => {Coffee}\n",
      " 0.0020  0.7308    {Juice, Spanish Brunch} => {Coffee}\n",
      " 0.0016  0.7143    {Cake, Toast} => {Coffee}\n",
      " 0.0010  0.7143    {Cake, Tea, Sandwich} => {Coffee}\n",
      " 0.0235  0.7044    {Toast} => {Coffee}\n",
      "CPU times: user 19.7 s, sys: 5.99 ms, total: 19.7 s\n",
      "Wall time: 19.7 s\n"
     ]
    }
   ],
   "source": [
    "%%time\n",
    "# a different groceries dataset, looking for rules with less support, but higher confidence (should take under a minute to run)\n",
    "printruleset('groceries2.txt',0.001,0.7)"
   ]
  },
  {
   "cell_type": "markdown",
   "metadata": {},
   "source": [
    "<div style=\"color: #000000;background-color: #FFCCFF\">\n",
    "    Q2:<br>\n",
    "    Grade: /12<br>\n",
    "    </div>"
   ]
  },
  {
   "cell_type": "markdown",
   "metadata": {},
   "source": [
    "<div style=\"color: #000000;background-color: #FFEEFF\">\n",
    "    <font size=+2>Part II: Clustering</font>\n",
    "</div>"
   ]
  },
  {
   "cell_type": "markdown",
   "metadata": {},
   "source": [
    "<div style=\"color: #000000;background-color: #FFFFEE\">\n",
    "    <font size=+2>Question 3:</font> <font size=+1>(4 points)</font>\n",
    "\n",
    "The code below plots 6 points (in 2D feature space) and the associated dendrograms for\n",
    "three types of linkage definitions: single, average, and complete.\n",
    "\n",
    "However, for these six points, all three dendrograms are almost the same.  While the levels at which points are merged differ, the clusters generated are the same.\n",
    "\n",
    "Change the points below (`pts`) so that each of the three linkages produces a different heirarchical clustering.\n",
    "</div>"
   ]
  },
  {
   "cell_type": "code",
   "execution_count": 10,
   "metadata": {},
   "outputs": [],
   "source": [
    "pts = [[1,0],[1,1.5],[2,1.5],[2,2],[2.75,2.1],[3,2.1]] ## Change only this line (but keep 6 points)\n",
    "# pts = [[1,1],[1,2],[2,3],[2,4],[4,3],[5,3]] ## Change only this line (but keep 6 points) [orig]\n",
    "pnames = ['A','B','C','D','E','F']"
   ]
  },
  {
   "cell_type": "code",
   "execution_count": 11,
   "metadata": {},
   "outputs": [
    {
     "data": {
      "image/png": "[encoded data removed]",
      "text/plain": [
       "<Figure size 1152x288 with 4 Axes>"
      ]
     },
     "metadata": {
      "needs_background": "light"
     },
     "output_type": "display_data"
    }
   ],
   "source": [
    "%matplotlib inline\n",
    "from scipy.cluster import hierarchy\n",
    "from scipy.spatial import distance\n",
    "import matplotlib.pyplot as plt\n",
    "\n",
    "ctypes = ['single','average','complete']\n",
    "\n",
    "plt, axes = plt.subplots(1,len(ctypes)+1,figsize=(4+4*len(ctypes),4))\n",
    "\n",
    "axes[0].scatter([x[0] for x in pts],[x[1] for x in pts])\n",
    "for i,name in enumerate(pnames):\n",
    "    axes[0].annotate(name,(pts[i][0],pts[i][1]))\n",
    "axes[0].axis('equal')\n",
    "axes[0].set_title('points')\n",
    "    \n",
    "for i,ctype in enumerate(ctypes):\n",
    "    Z = hierarchy.linkage(distance.pdist(pts),ctype)\n",
    "    hh = hierarchy.dendrogram(Z,ax=axes[i+1],labels=pnames)\n",
    "    axes[i+1].set_title(ctype+ \" linkage\")"
   ]
  },
  {
   "cell_type": "markdown",
   "metadata": {},
   "source": [
    "<div style=\"color: #000000;background-color: #FFCCFF\">\n",
    "    Q3:<br>\n",
    "    Grade: /4<br>\n",
    "    </div>"
   ]
  },
  {
   "cell_type": "code",
   "execution_count": null,
   "metadata": {},
   "outputs": [],
   "source": []
  }
 ],
 "metadata": {
  "kernelspec": {
   "display_name": "Python 3",
   "language": "python",
   "name": "python3"
  },
  "language_info": {
   "codemirror_mode": {
    "name": "ipython",
    "version": 3
   },
   "file_extension": ".py",
   "mimetype": "text/x-python",
   "name": "python",
   "nbconvert_exporter": "python",
   "pygments_lexer": "ipython3",
   "version": "3.6.8"
  }
 },
 "nbformat": 4,
 "nbformat_minor": 4
}
