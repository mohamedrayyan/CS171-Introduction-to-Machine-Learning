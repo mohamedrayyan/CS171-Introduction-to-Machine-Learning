{
 "cells": [
  {
   "cell_type": "markdown",
   "metadata": {},
   "source": [
    "# CS 171 / EE 142 Problem Set 4\n",
    "# Due Sunday, December 6, 2020 @ 11:59pm "
   ]
  },
  {
   "cell_type": "markdown",
   "metadata": {},
   "source": [
    "## Read *all* cells carefully and answer all parts (both text and code)"
   ]
  },
  {
   "cell_type": "markdown",
   "metadata": {},
   "source": [
    "### Enter your information below:\n",
    "\n",
    "<div style=\"color: #000000;background-color: #FFCCCC\">\n",
    "    Your Name (submitter): <br>\n",
    "Your student ID (submitter):\n",
    "</div>"
   ]
  },
  {
   "cell_type": "markdown",
   "metadata": {},
   "source": [
    "<div style=\"color: #000000;background-color: #FFCCFF\">\n",
    "    Total Grade: /30<br>\n",
    "    Late Days on this assigment: <br>\n",
    "    Total Late Days so far: <br>\n",
    "    </div>"
   ]
  },
  {
   "cell_type": "markdown",
   "metadata": {},
   "source": [
    "<div style=\"color: #000000;background-color: #FFEEFF\">\n",
    "    <font size=+2>Part I: Association Rules</font>\n",
    "</div>"
   ]
  },
  {
   "cell_type": "markdown",
   "metadata": {},
   "source": [
    "<div style=\"color: #000000;background-color: #FFFFEE\">\n",
    "    <font size=+2>Question 1:</font> <font size=+1>(4 points)</font>\n",
    "\n",
    "If there are $n$ items (or features), there are $3^n-2^{n+1}+1$ different possible association rules.  Prove this.\n",
    "\n",
    "You need a _clear_ explanation.  Note, associate rules must have a non-empty set on the left-hand and right-hand sides.\n",
    "</div>"
   ]
  },
  {
   "cell_type": "markdown",
   "metadata": {},
   "source": [
    "### Your Answer Here"
   ]
  },
  {
   "cell_type": "markdown",
   "metadata": {},
   "source": [
    "<div style=\"color: #000000;background-color: #FFCCFF\">\n",
    "    Q1:<br>\n",
    "    Grade: /4<br>\n",
    "    </div>"
   ]
  },
  {
   "cell_type": "markdown",
   "metadata": {},
   "source": [
    "<div style=\"color: #000000;background-color: #FFFFEE\">\n",
    "    <font size=+2>Question 2:</font> <font size=+1>(12 points)</font>\n",
    "    \n",
    "In this question, you will write code to do association rule learning, as described in class.\n",
    "\n",
    "The items will be represented by numbers (for ease and speed) with a separate\n",
    "list of the names for each item.  `loaddata` (below) loads in a dataset and returns these three things: a list of the names of each item, a list of the examples, and the total number of items.  Each example is a set of numbers representing.  For example, for the toy problem in lecture, loaddata returns\n",
    "\n",
    "`['Jurassic Park', 'Star Wars', 'Forrest Gump', 'Home Alone', 'Toy Story']`\n",
    "\n",
    "`[[1, 2, 4], [1, 4], [1, 3, 4], [0, 1], [0, 3], [1, 3, 4], [0, 2, 3], [3], [1, 3, 4], [1]]`\n",
    "\n",
    "`5`\n",
    "\n",
    "You should use `set`s and `frozenset`s (core python data structures) in your code.  You can read more about them at https://docs.python.org/3/library/stdtypes.html#set\n",
    "\n",
    "Write the functions `learnrules` and `writerules`, plus any additional helper functions you need.  Use the apriori algorithm to generate \"large item lists\" and the algorithm from class to find rules that meet the minimum support and confidence given.\n",
    "</div>"
   ]
  },
  {
   "cell_type": "code",
   "execution_count": null,
   "metadata": {},
   "outputs": [],
   "source": [
    "from itertools import combinations, chain #do not import anything else \n",
    "# (you may or may not use combinations -- up to you)\n",
    "\n",
    "# prints out a set, nicely\n",
    "# names is an optional list of the names for each of the (integer) items\n",
    "def settostr(s,names=None):\n",
    "    if names is None:\n",
    "        elems = [str(e) for e in s]\n",
    "    else:\n",
    "        elems = [names[e] for e in s]\n",
    "    return \"{\" + (\", \".join(elems)) + \"}\""
   ]
  },
  {
   "cell_type": "code",
   "execution_count": null,
   "metadata": {},
   "outputs": [],
   "source": [
    "# loads in data from filename, assuming the file format used for this assignment\n",
    "def loaddata(filename):\n",
    "    with open(filename) as f:\n",
    "        nitems = int(f.readline())\n",
    "        names = [f.readline().strip() for i in range(nitems)]\n",
    "        nrows = int(f.readline())\n",
    "        data = [[int(s) for s in f.readline().split()] for i in range(nrows)]\n",
    "        f.close()\n",
    "        return (names,data,nitems)        "
   ]
  },
  {
   "cell_type": "code",
   "execution_count": null,
   "metadata": {},
   "outputs": [],
   "source": [
    "def learnrules(numitems,data,minsupport,minconfidence):\n",
    "    ### ADD YOUR CODE HERE (of course, feel free to add other functions!)\n",
    "    ### Should return a list of rules.  \n",
    "    ### Each rule should be a pair of two sets (lhs and rhs)\n"
   ]
  },
  {
   "cell_type": "code",
   "execution_count": null,
   "metadata": {},
   "outputs": [],
   "source": [
    "def writerule(rule,itemnames):\n",
    "    return settostr(rule[0],itemnames) + \" => \" + settostr(rule[1],itemnames)\n",
    "\n",
    "def writerules(rules,data,itemnames):\n",
    "    ### ADD YOUR CODE HERE\n",
    "    ## should print out each rule, *sorted by confidence*, (high to low) one per line\n",
    "    ## each line should list the support, then the confidence, then the rule\n",
    "    ## to line up the columns nicely, use\n",
    "    ##       \"{:7.4f}\".format(x)\n",
    "    ## to print the floating point number in the variable x\n",
    "    ## use settostr (above) to write out the itemsets\n",
    "    \n",
    "    "
   ]
  },
  {
   "cell_type": "code",
   "execution_count": null,
   "metadata": {},
   "outputs": [],
   "source": [
    "# prints the rule set\n",
    "def printruleset(datasetfilename,minsupport,minconfidence):\n",
    "    (itemnames,data,numitems) = loaddata(datasetfilename)\n",
    "    rules = learnrules(numitems,data,minsupport,minconfidence)\n",
    "    writerules(rules,data,itemnames)"
   ]
  },
  {
   "cell_type": "code",
   "execution_count": null,
   "metadata": {},
   "outputs": [],
   "source": [
    "## toy dataset example\n",
    "printruleset('toymovies.txt',0.3,0.5)\n",
    "''' output should look like\n",
    " 0.5000  1.0000    {Toy Story} => {Star Wars}\n",
    " 0.3000  1.0000    {Star Wars, Home Alone} => {Toy Story}\n",
    " 0.3000  1.0000    {Home Alone, Toy Story} => {Star Wars}\n",
    " 0.5000  0.7143    {Star Wars} => {Toy Story}\n",
    " 0.3000  0.6000    {Star Wars, Toy Story} => {Home Alone}\n",
    " 0.3000  0.6000    {Toy Story} => {Home Alone}\n",
    " 0.3000  0.6000    {Toy Story} => {Star Wars, Home Alone}\n",
    " 0.3000  0.5000    {Home Alone} => {Toy Story}\n",
    " 0.3000  0.5000    {Home Alone} => {Star Wars, Toy Story}\n",
    " 0.3000  0.5000    {Home Alone} => {Star Wars}\n",
    "'''"
   ]
  },
  {
   "cell_type": "code",
   "execution_count": null,
   "metadata": {},
   "outputs": [],
   "source": [
    "%%time\n",
    "# the full groceries answer (should take under a minute to run)\n",
    "printruleset('groceries.txt',0.01,0.5)"
   ]
  },
  {
   "cell_type": "code",
   "execution_count": null,
   "metadata": {},
   "outputs": [],
   "source": [
    "%%time\n",
    "# a different groceries dataset, looking for rules with less support, but higher confidence (should take under a minute to run)\n",
    "printruleset('groceries2.txt',0.001,0.7)"
   ]
  },
  {
   "cell_type": "markdown",
   "metadata": {},
   "source": [
    "<div style=\"color: #000000;background-color: #FFCCFF\">\n",
    "    Q2:<br>\n",
    "    Grade: /12<br>\n",
    "    </div>"
   ]
  },
  {
   "cell_type": "markdown",
   "metadata": {},
   "source": [
    "<div style=\"color: #000000;background-color: #FFEEFF\">\n",
    "    <font size=+2>Part II: Clustering</font>\n",
    "</div>"
   ]
  },
  {
   "cell_type": "markdown",
   "metadata": {},
   "source": [
    "<div style=\"color: #000000;background-color: #FFFFEE\">\n",
    "    <font size=+2>Question 3:</font> <font size=+1>(4 points)</font>\n",
    "\n",
    "The code below plots 6 points (in 2D feature space) and the associated dendrograms for\n",
    "three types of linkage definitions: single, average, and complete.\n",
    "\n",
    "However, for these six points, all three dendrograms are almost the same.  While the levels at which points are merged differ, the clusters generated are the same.\n",
    "\n",
    "Change the points below (`pts`) so that each of the three linkages produces a different heirarchical clustering.\n",
    "</div>"
   ]
  },
  {
   "cell_type": "code",
   "execution_count": null,
   "metadata": {},
   "outputs": [],
   "source": [
    "pts = [[1,1],[1,2],[2,3],[2,4],[4,3],[5,3]] ## Change only this line (but keep 6 points)\n",
    "pnames = ['A','B','C','D','E','F']"
   ]
  },
  {
   "cell_type": "code",
   "execution_count": null,
   "metadata": {},
   "outputs": [],
   "source": [
    "%matplotlib inline\n",
    "from scipy.cluster import hierarchy\n",
    "from scipy.spatial import distance\n",
    "import matplotlib.pyplot as plt\n",
    "\n",
    "ctypes = ['single','average','complete']\n",
    "\n",
    "plt, axes = plt.subplots(1,len(ctypes)+1,figsize=(4+4*len(ctypes),4))\n",
    "\n",
    "axes[0].scatter([x[0] for x in pts],[x[1] for x in pts])\n",
    "for i,name in enumerate(pnames):\n",
    "    axes[0].annotate(name,(pts[i][0],pts[i][1]))\n",
    "axes[0].axis('equal')\n",
    "axes[0].set_title('points')\n",
    "    \n",
    "for i,ctype in enumerate(ctypes):\n",
    "    Z = hierarchy.linkage(distance.pdist(pts),ctype)\n",
    "    hh = hierarchy.dendrogram(Z,ax=axes[i+1],labels=pnames)\n",
    "    axes[i+1].set_title(ctype+ \" linkage\")"
   ]
  },
  {
   "cell_type": "markdown",
   "metadata": {},
   "source": [
    "<div style=\"color: #000000;background-color: #FFCCFF\">\n",
    "    Q3:<br>\n",
    "    Grade: /4<br>\n",
    "    </div>"
   ]
  }
 ],
 "metadata": {
  "kernelspec": {
   "display_name": "Python 3",
   "language": "python",
   "name": "python3"
  },
  "language_info": {
   "codemirror_mode": {
    "name": "ipython",
    "version": 3
   },
   "file_extension": ".py",
   "mimetype": "text/x-python",
   "name": "python",
   "nbconvert_exporter": "python",
   "pygments_lexer": "ipython3",
   "version": "3.6.8"
  }
 },
 "nbformat": 4,
 "nbformat_minor": 4
}
