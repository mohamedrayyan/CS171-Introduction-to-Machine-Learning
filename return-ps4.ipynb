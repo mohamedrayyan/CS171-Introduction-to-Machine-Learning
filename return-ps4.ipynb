{
 "cells": [
  {
   "cell_type": "markdown",
   "metadata": {},
   "source": [
    "# CS 171 / EE 142 Problem Set 4\n",
    "# Due Sunday, December 6, 2020 @ 11:59pm "
   ]
  },
  {
   "cell_type": "markdown",
   "metadata": {},
   "source": [
    "## Read *all* cells carefully and answer all parts (both text and code)"
   ]
  },
  {
   "cell_type": "markdown",
   "metadata": {},
   "source": [
    "### Enter your information below:\n",
    "\n",
    "<div style=\"color: #000000;background-color: #FFCCCC\">\n",
    "    Your Name (submitter): Mohamed Rayyan<br>\n",
    "Your student ID (submitter): 862037325\n",
    "</div>"
   ]
  },
  {
   "cell_type": "markdown",
   "metadata": {},
   "source": [
    "<div style=\"color: #000000;background-color: #FFCCFF\">\n",
    "    Total Grade: 19/20<br>\n",
    "    Late Days on this assigment: 0<br>\n",
    "    Total Late Days so far: <br>\n",
    "    </div>"
   ]
  },
  {
   "cell_type": "markdown",
   "metadata": {},
   "source": [
    "<div style=\"color: #000000;background-color: #FFEEFF\">\n",
    "    <font size=+2>Part I: Association Rules</font>\n",
    "</div>"
   ]
  },
  {
   "cell_type": "markdown",
   "metadata": {},
   "source": [
    "<div style=\"color: #000000;background-color: #FFFFEE\">\n",
    "    <font size=+2>Question 1:</font> <font size=+1>(4 points)</font>\n",
    "\n",
    "If there are $n$ items (or features), there are $3^n-2^{n+1}+1$ different possible association rules.  Prove this.\n",
    "\n",
    "You need a _clear_ explanation.  Note, associate rules must have a non-empty set on the left-hand and right-hand sides.\n",
    "</div>"
   ]
  },
  {
   "cell_type": "markdown",
   "metadata": {},
   "source": [
    "### Your Answer Here\n",
    "\n",
    "We know there are $n$ features let $a$ be the number of items in $x$ where $1 \\leq a \\leq{n}$ because $x \\neq \\emptyset$\n",
    "Then we will have ${n \\choose a}$ ways to choose a items from n.\n",
    "<br>\n",
    "\n",
    "This will leave $y$ with a complete binary tree with depth of $(n-a)$ and number of leafs of $2^{(n-a)}-1$ we subtract 1\n",
    "because we don't want the $\\emptyset$ to be included.\n",
    "<br>\n",
    "Now $x$ has ${n \\choose a}$ ways to choose from and $y$ has $2^{(n-a)}-1$ ways to choose from. Then we do $\\sum_{a=1}^{n-1} {n \\choose a} \\cdot (2^{(n-a)}-1)$ to get the total possibilities (the bounds are from $n-1$ because there must be at least one item in $y$).\n",
    "<br>\n",
    "\n",
    "$\\sum_{a=1}^{n-1} {n \\choose a} \\cdot (2^{(n-a)}-1)$ = $\\sum_{a=0}^{n} {n \\choose a} \\cdot (2^{(n-a)}-1) - {n \\choose n} \\cdot (2^{(0)}-1) - {n \\choose 0} \\cdot (2^{(n)}-1)$\n",
    "<br>\n",
    "<br>\n",
    "re-writing the sums gives us $\\sum_{a=0}^{n} {n \\choose a} \\cdot (2^{(n-a)}-1) - \\sum_{a=0}^{n} {n \\choose a} - (2^{n}-1)$\n",
    "<br>\n",
    "<br>\n",
    "using the binomial theorem gives us $(2+1)^n -(1+1)^n -2^n +1 = 3^n -2^n +1$ "
   ]
  },
  {
   "cell_type": "markdown",
   "metadata": {},
   "source": [
    "<div style=\"color: #000000;background-color: #FFCCFF\">\n",
    "    Q1:<br>\n",
    "    Grade: 3/4. As presented this answer doesn't clearly distinguish between left and right hand sides. The phrasing is confusing too.<br>\n",
    "    </div>"
   ]
  },
  {
   "cell_type": "markdown",
   "metadata": {},
   "source": [
    "<div style=\"color: #000000;background-color: #FFFFEE\">\n",
    "    <font size=+2>Question 2:</font> <font size=+1>(12 points)</font>\n",
    "    \n",
    "In this question, you will write code to do association rule learning, as described in class.\n",
    "\n",
    "The items will be represented by numbers (for ease and speed) with a separate\n",
    "list of the names for each item.  `loaddata` (below) loads in a dataset and returns these three things: a list of the names of each item, a list of the examples, and the total number of items.  Each example is a set of numbers representing.  For example, for the toy problem in lecture, loaddata returns\n",
    "\n",
    "`['Jurassic Park', 'Star Wars', 'Forrest Gump', 'Home Alone', 'Toy Story']`\n",
    "\n",
    "`[[1, 2, 4], [1, 4], [1, 3, 4], [0, 1], [0, 3], [1, 3, 4], [0, 2, 3], [3], [1, 3, 4], [1]]`\n",
    "\n",
    "`5`\n",
    "\n",
    "You should use `set`s and `frozenset`s (core python data structures) in your code.  You can read more about them at https://docs.python.org/3/library/stdtypes.html#set\n",
    "\n",
    "Write the functions `learnrules` and `writerules`, plus any additional helper functions you need.  Use the apriori algorithm to generate \"large item lists\" and the algorithm from class to find rules that meet the minimum support and confidence given.\n",
    "</div>"
   ]
  },
  {
   "cell_type": "code",
   "execution_count": 5,
   "metadata": {},
   "outputs": [],
   "source": [
    "from itertools import combinations, chain #do not import anything else \n",
    "# (you may or may not use combinations -- up to you)\n",
    "\n",
    "# prints out a set, nicely\n",
    "# names is an optional list of the names for each of the (integer) items\n",
    "def settostr(s,names=None):\n",
    "    if names is None:\n",
    "        elems = [str(e) for e in s]\n",
    "    else:\n",
    "        elems = [names[e] for e in s]\n",
    "    return \"{\" + (\", \".join(elems)) + \"}\""
   ]
  },
  {
   "cell_type": "code",
   "execution_count": 6,
   "metadata": {},
   "outputs": [],
   "source": [
    "# loads in data from filename, assuming the file format used for this assignment\n",
    "def loaddata(filename):\n",
    "    with open(filename) as f:\n",
    "        nitems = int(f.readline())\n",
    "        names = [f.readline().strip() for i in range(nitems)]\n",
    "        nrows = int(f.readline())\n",
    "        data = [[int(s) for s in f.readline().split()] for i in range(nrows)]\n",
    "        f.close()\n",
    "        return (names,data,nitems)        "
   ]
  },
  {
   "cell_type": "code",
   "execution_count": 48,
   "metadata": {},
   "outputs": [],
   "source": [
    "def support(lhs,rhs,data):\n",
    "    count =0\n",
    "    temp =lhs.union(rhs)\n",
    "    \n",
    "    for x in data:\n",
    "        if(temp.issubset(frozenset(x))):\n",
    "            count +=1\n",
    "\n",
    "    return count/len(data)\n",
    "\n",
    "def confidence(lhs,rhs,data):\n",
    "    count =0\n",
    "    for x in data:\n",
    "        if(rhs.issubset(frozenset(x))):\n",
    "            count +=1\n",
    "    return (len(data)*support(lhs,rhs,data))/count\n",
    "\n",
    "def aprioriGen(Li,lvl):\n",
    "    Ci =[]\n",
    "    \n",
    "    for i in range(len(Li)):\n",
    "        temp =Li[:]\n",
    "        temp.remove(Li[i])\n",
    "        \n",
    "        for j in range(len(temp)):\n",
    "            if len(Li[i].intersection(temp[j])) ==lvl-2:\n",
    "                Ci.append(Li[i].union(temp[j]))\n",
    "    return Ci\n",
    "                \n",
    "\n",
    "def apriori(I,data,smin):\n",
    "    L =[]\n",
    "    temp =set(x for l in data for x in l)\n",
    "    temp2 =[]\n",
    "    for t in temp:\n",
    "        if support(frozenset({t}),frozenset({}),data) >=smin:\n",
    "            temp2.append(frozenset({t}))\n",
    "\n",
    "    L =temp2\n",
    "    #L.extend([frozenset({0}),frozenset({1}),frozenset({3}),frozenset({4})])\n",
    "    i =1\n",
    "    Li =temp2\n",
    "    while len(Li) >0:\n",
    "        i += 1\n",
    "        Ci =aprioriGen(Li,i)\n",
    "        Li =[]\n",
    "        for c in Ci:\n",
    "            if support(c,frozenset({}),data) >=smin:\n",
    "                Li.append(c)\n",
    "        Li = list(dict.fromkeys(Li))\n",
    "        if Li != []:\n",
    "            L.extend(Li)\n",
    "\n",
    "    return L\n",
    "\n",
    "def learnrules(numitems,data,minsupport,minconfidence):\n",
    "    ### ADD YOUR CODE HERE (of course, feel free to add other functions!)\n",
    "    ### Should return a list of rules.\n",
    "    ### Each rule should be a pair of two sets (lhs and rhs)\n",
    "    L =apriori(0,data,minsupport)\n",
    "    R =[]\n",
    "    \n",
    "    for l in L:\n",
    "        for x in list(chain.from_iterable(combinations(list(l),r) for r in range(1,len(l)+1))):\n",
    "            if l ==frozenset(x):\n",
    "                continue\n",
    "            confid =confidence(l,frozenset(x),data)\n",
    "            if confid >= minconfidence:\n",
    "                R.append([support(l,frozenset(x),data),confid,[frozenset(x),l-frozenset(x)]])\n",
    "    R.sort(key=lambda x: x[1], reverse=True)\n",
    "    return R"
   ]
  },
  {
   "cell_type": "code",
   "execution_count": 49,
   "metadata": {},
   "outputs": [],
   "source": [
    "def writerule(rule,itemnames):\n",
    "    return settostr(rule[0],itemnames) + \" => \" + settostr(rule[1],itemnames)\n",
    "\n",
    "def writerules(rules,data,itemnames):\n",
    "    ### ADD YOUR CODE HERE\n",
    "    ## should print out each rule, *sorted by confidence*, (high to low) one per line\n",
    "    ## each line should list the support, then the confidence, then the rule\n",
    "    ## to line up the columns nicely, use\n",
    "    ##       \"{:7.4f}\".format(x)\n",
    "    ## to print the floating point number in the variable x\n",
    "    ## use settostr (above) to write out the itemsets\n",
    "    for r in rules:\n",
    "        print(\"{:7.4f}\".format(r[0]), \"{:7.4f}\".format(r[1]), writerule(r[2], itemnames))"
   ]
  },
  {
   "cell_type": "code",
   "execution_count": 50,
   "metadata": {},
   "outputs": [],
   "source": [
    "# prints the rule set\n",
    "def printruleset(datasetfilename,minsupport,minconfidence):\n",
    "    (itemnames,data,numitems) = loaddata(datasetfilename)\n",
    "    rules = learnrules(numitems,data,minsupport,minconfidence)\n",
    "    writerules(rules,data,itemnames)"
   ]
  },
  {
   "cell_type": "code",
   "execution_count": 51,
   "metadata": {},
   "outputs": [
    {
     "name": "stdout",
     "output_type": "stream",
     "text": [
      " 0.5000  1.0000 {Toy Story} => {Star Wars}\n",
      " 0.3000  1.0000 {Star Wars, Home Alone} => {Toy Story}\n",
      " 0.3000  1.0000 {Home Alone, Toy Story} => {Star Wars}\n",
      " 0.5000  0.7143 {Star Wars} => {Toy Story}\n",
      " 0.3000  0.6000 {Toy Story} => {Home Alone}\n",
      " 0.3000  0.6000 {Toy Story} => {Star Wars, Home Alone}\n",
      " 0.3000  0.6000 {Star Wars, Toy Story} => {Home Alone}\n",
      " 0.3000  0.5000 {Home Alone} => {Star Wars}\n",
      " 0.3000  0.5000 {Home Alone} => {Toy Story}\n",
      " 0.3000  0.5000 {Home Alone} => {Star Wars, Toy Story}\n"
     ]
    },
    {
     "data": {
      "text/plain": [
       "' output should look like\\n 0.5000  1.0000    {Toy Story} => {Star Wars}\\n 0.3000  1.0000    {Star Wars, Home Alone} => {Toy Story}\\n 0.3000  1.0000    {Home Alone, Toy Story} => {Star Wars}\\n 0.5000  0.7143    {Star Wars} => {Toy Story}\\n 0.3000  0.6000    {Star Wars, Toy Story} => {Home Alone}\\n 0.3000  0.6000    {Toy Story} => {Home Alone}\\n 0.3000  0.6000    {Toy Story} => {Star Wars, Home Alone}\\n 0.3000  0.5000    {Home Alone} => {Toy Story}\\n 0.3000  0.5000    {Home Alone} => {Star Wars, Toy Story}\\n 0.3000  0.5000    {Home Alone} => {Star Wars}\\n'"
      ]
     },
     "execution_count": 51,
     "metadata": {},
     "output_type": "execute_result"
    }
   ],
   "source": [
    "## toy dataset example\n",
    "printruleset('toymovies.txt',0.3,0.5)\n",
    "''' output should look like\n",
    " 0.5000  1.0000    {Toy Story} => {Star Wars}\n",
    " 0.3000  1.0000    {Star Wars, Home Alone} => {Toy Story}\n",
    " 0.3000  1.0000    {Home Alone, Toy Story} => {Star Wars}\n",
    " 0.5000  0.7143    {Star Wars} => {Toy Story}\n",
    " 0.3000  0.6000    {Star Wars, Toy Story} => {Home Alone}\n",
    " 0.3000  0.6000    {Toy Story} => {Home Alone}\n",
    " 0.3000  0.6000    {Toy Story} => {Star Wars, Home Alone}\n",
    " 0.3000  0.5000    {Home Alone} => {Toy Story}\n",
    " 0.3000  0.5000    {Home Alone} => {Star Wars, Toy Story}\n",
    " 0.3000  0.5000    {Home Alone} => {Star Wars}\n",
    "'''"
   ]
  },
  {
   "cell_type": "code",
   "execution_count": 403,
   "metadata": {},
   "outputs": [
    {
     "name": "stdout",
     "output_type": "stream",
     "text": [
      " 0.0104  0.5862 {citrus fruit, root vegetables} => {other vegetables}\n",
      " 0.0123  0.5845 {root vegetables, tropical fruit} => {other vegetables}\n",
      " 0.0101  0.5824 {curd, yogurt} => {whole milk}\n",
      " 0.0115  0.5736 {other vegetables, butter} => {whole milk}\n",
      " 0.0120  0.5700 {root vegetables, tropical fruit} => {whole milk}\n",
      " 0.0145  0.5630 {root vegetables, yogurt} => {whole milk}\n",
      " 0.0123  0.5525 {domestic eggs, other vegetables} => {whole milk}\n",
      " 0.0109  0.5245 {yogurt, whipped/sour cream} => {whole milk}\n",
      " 0.0127  0.5230 {rolls/buns, root vegetables} => {whole milk}\n",
      " 0.0135  0.5175 {pip fruit, other vegetables} => {whole milk}\n",
      " 0.0151  0.5174 {tropical fruit, yogurt} => {whole milk}\n",
      " 0.0223  0.5129 {other vegetables, yogurt} => {whole milk}\n",
      " 0.0146  0.5070 {other vegetables, whipped/sour cream} => {whole milk}\n",
      " 0.0122  0.5021 {rolls/buns, root vegetables} => {other vegetables}\n",
      " 0.0129  0.5000 {root vegetables, yogurt} => {other vegetables}\n",
      "CPU times: user 1min 20s, sys: 6.6 ms, total: 1min 20s\n",
      "Wall time: 1min 20s\n"
     ]
    }
   ],
   "source": [
    "%%time\n",
    "# the full groceries answer (should take under a minute to run)\n",
    "printruleset('groceries.txt',0.01,0.5)"
   ]
  },
  {
   "cell_type": "code",
   "execution_count": 404,
   "metadata": {},
   "outputs": [
    {
     "name": "stdout",
     "output_type": "stream",
     "text": [
      " 0.0013  0.9231 {Other, Tartine} => {Coffee}\n",
      " 0.0010  0.9091 {Medialuna, Hot chocolate, Other} => {Coffee}\n",
      " 0.0015  0.8750 {Salad, Extra Salami or Feta} => {Coffee}\n",
      " 0.0014  0.8667 {Toast, Pastry} => {Coffee}\n",
      " 0.0013  0.8571 {Hearty & Seasonal, Sandwich} => {Coffee}\n",
      " 0.0010  0.8333 {Vegan mincepie, Cake} => {Coffee}\n",
      " 0.0016  0.8333 {Other, Scone} => {Coffee}\n",
      " 0.0016  0.8333 {Salad, Sandwich} => {Coffee}\n",
      " 0.0033  0.8158 {Extra Salami or Feta} => {Coffee}\n",
      " 0.0054  0.8095 {Keeping It Local} => {Coffee}\n",
      " 0.0016  0.7895 {Cookies, Scone} => {Coffee}\n",
      " 0.0018  0.7727 {Juice, Pastry} => {Coffee}\n",
      " 0.0010  0.7692 {Salad, Cake} => {Coffee}\n",
      " 0.0014  0.7647 {Other, Extra Salami or Feta} => {Coffee}\n",
      " 0.0028  0.7500 {Other, Toast} => {Coffee}\n",
      " 0.0021  0.7407 {Other, Cookies} => {Coffee}\n",
      " 0.0020  0.7308 {Juice, Spanish Brunch} => {Coffee}\n",
      " 0.0010  0.7143 {Cake, Tea, Sandwich} => {Coffee}\n",
      " 0.0016  0.7143 {Cake, Toast} => {Coffee}\n",
      " 0.0235  0.7044 {Toast} => {Coffee}\n",
      "CPU times: user 1min 13s, sys: 5.83 ms, total: 1min 13s\n",
      "Wall time: 1min 13s\n"
     ]
    }
   ],
   "source": [
    "%%time\n",
    "# a different groceries dataset, looking for rules with less support, but higher confidence (should take under a minute to run)\n",
    "printruleset('groceries2.txt',0.001,0.7)"
   ]
  },
  {
   "cell_type": "markdown",
   "metadata": {},
   "source": [
    "<div style=\"color: #000000;background-color: #FFCCFF\">\n",
    "    Q2:<br>\n",
    "    Grade: 12/12<br>\n",
    "    </div>"
   ]
  },
  {
   "cell_type": "markdown",
   "metadata": {},
   "source": [
    "<div style=\"color: #000000;background-color: #FFEEFF\">\n",
    "    <font size=+2>Part II: Clustering</font>\n",
    "</div>"
   ]
  },
  {
   "cell_type": "markdown",
   "metadata": {},
   "source": [
    "<div style=\"color: #000000;background-color: #FFFFEE\">\n",
    "    <font size=+2>Question 3:</font> <font size=+1>(4 points)</font>\n",
    "\n",
    "The code below plots 6 points (in 2D feature space) and the associated dendrograms for\n",
    "three types of linkage definitions: single, average, and complete.\n",
    "\n",
    "However, for these six points, all three dendrograms are almost the same.  While the levels at which points are merged differ, the clusters generated are the same.\n",
    "\n",
    "Change the points below (`pts`) so that each of the three linkages produces a different heirarchical clustering.\n",
    "</div>"
   ]
  },
  {
   "cell_type": "code",
   "execution_count": 56,
   "metadata": {},
   "outputs": [],
   "source": [
    "#pts = [[1,1],[1,2],[2,3],[2,4],[4,3],[5,3]] ## Change only this line (but keep 6 points)\n",
    "pts = [[-1.7,2.3],[0.5,2],[-1.3,1.3],[-1.2,0],[0.5,-0.7],[0.5,1.2]]\n",
    "pnames = ['A','B','C','D','E','F']"
   ]
  },
  {
   "cell_type": "code",
   "execution_count": 57,
   "metadata": {},
   "outputs": [
    {
     "data": {
      "image/png": "[encoded data removed]",
      "text/plain": [
       "<Figure size 1152x288 with 4 Axes>"
      ]
     },
     "metadata": {
      "needs_background": "light"
     },
     "output_type": "display_data"
    }
   ],
   "source": [
    "%matplotlib inline\n",
    "from scipy.cluster import hierarchy\n",
    "from scipy.spatial import distance\n",
    "import matplotlib.pyplot as plt\n",
    "\n",
    "ctypes = ['single','average','complete']\n",
    "\n",
    "plt, axes = plt.subplots(1,len(ctypes)+1,figsize=(4+4*len(ctypes),4))\n",
    "\n",
    "axes[0].scatter([x[0] for x in pts],[x[1] for x in pts])\n",
    "for i,name in enumerate(pnames):\n",
    "    axes[0].annotate(name,(pts[i][0],pts[i][1]))\n",
    "axes[0].axis('equal')\n",
    "axes[0].set_title('points')\n",
    "    \n",
    "for i,ctype in enumerate(ctypes):\n",
    "    Z = hierarchy.linkage(distance.pdist(pts),ctype)\n",
    "    hh = hierarchy.dendrogram(Z,ax=axes[i+1],labels=pnames)\n",
    "    axes[i+1].set_title(ctype+ \" linkage\")"
   ]
  },
  {
   "cell_type": "markdown",
   "metadata": {},
   "source": [
    "<div style=\"color: #000000;background-color: #FFCCFF\">\n",
    "    Q3:<br>\n",
    "    Grade: 4/4<br>\n",
    "    </div>"
   ]
  },
  {
   "cell_type": "code",
   "execution_count": null,
   "metadata": {},
   "outputs": [],
   "source": []
  }
 ],
 "metadata": {
  "kernelspec": {
   "display_name": "Python 3",
   "language": "python",
   "name": "python3"
  },
  "language_info": {
   "codemirror_mode": {
    "name": "ipython",
    "version": 3
   },
   "file_extension": ".py",
   "mimetype": "text/x-python",
   "name": "python",
   "nbconvert_exporter": "python",
   "pygments_lexer": "ipython3",
   "version": "3.6.8"
  }
 },
 "nbformat": 4,
 "nbformat_minor": 4
}
